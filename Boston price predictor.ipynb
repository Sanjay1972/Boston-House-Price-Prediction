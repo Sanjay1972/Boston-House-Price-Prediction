{
 "cells": [
  {
   "cell_type": "code",
   "execution_count": 8,
   "id": "145400f2",
   "metadata": {},
   "outputs": [
    {
     "name": "stdout",
     "output_type": "stream",
     "text": [
      "Linear Regression\n",
      "Training Score\n",
      "\n",
      "R^2: 0.7508856358979673\n",
      "Adjusted R^2: 0.7425818237612329\n",
      "MAE: 3.3147716267832292\n",
      "MSE: 21.641412753226312\n",
      "RMSE: 4.6520331848801675\n",
      "\n",
      "\n",
      "Test Score\n",
      "\n",
      "R^2: 0.6687594935356332\n",
      "Adjusted R^2: 0.6198262368988519\n",
      "MAE: 3.1890919658878354\n",
      "MSE: 24.291119474973428\n",
      "RMSE: 4.928602182665327\n",
      "\n",
      "\n",
      "Decision Tree Regressor\n",
      "\n",
      "Score: 0.5899985042557934\n",
      "MAE: 2971.56862745098\n"
     ]
    }
   ],
   "source": [
    "import pandas as pd\n",
    "import numpy as np\n",
    "from sklearn import metrics\n",
    "from sklearn.model_selection import ShuffleSplit\n",
    "\n",
    "\n",
    "data = pd.read_csv(\"D:\\\\sanjay\\\\MLDatasets\\\\boston_house_prices.csv\")\n",
    "prices = data['MEDV']\n",
    "features = data.drop('MEDV', axis = 1)\n",
    "from sklearn.model_selection import train_test_split\n",
    "\n",
    "\n",
    "X_train, X_test, y_train, y_test = train_test_split(features, prices, test_size=0.2, random_state = 42)\n",
    "from sklearn.linear_model import LinearRegression\n",
    "\n",
    "\n",
    "l = LinearRegression()\n",
    "l.fit(X_train, y_train)\n",
    "coeffcients = pd.DataFrame([X_train.columns,l.coef_]).T\n",
    "coeffcients = coeffcients.rename(columns={0: 'Attribute', 1: 'Coefficients'})\n",
    "\n",
    "\n",
    "y_pred = l.predict(X_train)\n",
    "print('Linear Regression')\n",
    "print(\"Training Score\\n\")\n",
    "print('R^2:',metrics.r2_score(y_train, y_pred))\n",
    "print('Adjusted R^2:',1 - (1-metrics.r2_score(y_train, y_pred))*(len(y_train)-1)/(len(y_train)-X_train.shape[1]-1))\n",
    "print('MAE:',metrics.mean_absolute_error(y_train, y_pred))\n",
    "print('MSE:',metrics.mean_squared_error(y_train, y_pred))\n",
    "print('RMSE:',np.sqrt(metrics.mean_squared_error(y_train, y_pred)))\n",
    "\n",
    "print(\"\\n\\nTest Score\\n\")\n",
    "y_test_pred = l.predict(X_test)\n",
    "acc_linreg = metrics.r2_score(y_test, y_test_pred)\n",
    "print('R^2:', acc_linreg)\n",
    "print('Adjusted R^2:',1 - (1-metrics.r2_score(y_test, y_test_pred))*(len(y_test)-1)/(len(y_test)-X_test.shape[1]-1))\n",
    "print('MAE:',metrics.mean_absolute_error(y_test, y_test_pred))\n",
    "print('MSE:',metrics.mean_squared_error(y_test, y_test_pred))\n",
    "print('RMSE:',np.sqrt(metrics.mean_squared_error(y_test, y_test_pred)))\n"
   ]
  },
  {
   "cell_type": "code",
   "execution_count": null,
   "id": "7eea5cc8",
   "metadata": {},
   "outputs": [],
   "source": []
  }
 ],
 "metadata": {
  "kernelspec": {
   "display_name": "Python 3 (ipykernel)",
   "language": "python",
   "name": "python3"
  },
  "language_info": {
   "codemirror_mode": {
    "name": "ipython",
    "version": 3
   },
   "file_extension": ".py",
   "mimetype": "text/x-python",
   "name": "python",
   "nbconvert_exporter": "python",
   "pygments_lexer": "ipython3",
   "version": "3.10.9"
  }
 },
 "nbformat": 4,
 "nbformat_minor": 5
}
