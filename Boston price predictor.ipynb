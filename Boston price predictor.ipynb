{
 "cells": [
  {
   "cell_type": "code",
   "execution_count": 7,
   "id": "145400f2",
   "metadata": {},
   "outputs": [
    {
     "name": "stdout",
     "output_type": "stream",
     "text": [
      "Best Ridge parameters: {'alpha': 0.1}\n",
      "Best Lasso parameters: {'alpha': 0.1}\n",
      "\n",
      "Ridge Regression Scores\n",
      "\n",
      "Training Scores:\n",
      "R^2: 0.750827350977196\n",
      "Adjusted R^2: 0.7425215960097692\n",
      "MAE: 3.3084827565192643\n",
      "MSE: 21.646476162685847\n",
      "RMSE: 4.652577367727037\n",
      "\n",
      "Testing Scores:\n",
      "R^2: 0.6686244122021412\n",
      "Adjusted R^2: 0.6196712003683666\n",
      "MAE: 3.1788559832344783\n",
      "MSE: 24.301025500192747\n",
      "RMSE: 4.929607033039525\n",
      "\n",
      "Lasso Regression Scores\n",
      "\n",
      "Training Scores:\n",
      "R^2: 0.7382419735910873\n",
      "Adjusted R^2: 0.7295167060441237\n",
      "MAE: 3.346446362482111\n",
      "MSE: 22.739810734739436\n",
      "RMSE: 4.768627762233013\n",
      "\n",
      "Testing Scores:\n",
      "R^2: 0.6569712802223936\n",
      "Adjusted R^2: 0.60629658298252\n",
      "MAE: 3.145239867403719\n",
      "MSE: 25.155593753934173\n",
      "RMSE: 5.015535241022056\n"
     ]
    }
   ],
   "source": [
    "import pandas as pd\n",
    "import numpy as np\n",
    "from sklearn import metrics\n",
    "from sklearn.model_selection import ShuffleSplit\n",
    "\n",
    "\n",
    "data = pd.read_csv(\"D:\\\\sanjay\\MLDatasets\\boston_house_prices.csv\")\n",
    "prices = data['medv']\n",
    "features = data.drop('medv', axis = 1)\n",
    "from sklearn.model_selection import train_test_split\n",
    "\n",
    "\n",
    "X_train, X_test, y_train, y_test = train_test_split(features, prices, test_size=0.2, random_state = 42)\n",
    "from sklearn.linear_model import LinearRegression\n",
    "\n",
    "\n",
    "l = LinearRegression()\n",
    "l.fit(X_train, y_train)\n",
    "coeffcients = pd.DataFrame([X_train.columns,l.coef_]).T\n",
    "coeffcients = coeffcients.rename(columns={0: 'Attribute', 1: 'Coefficients'})\n",
    "\n",
    "\n",
    "y_pred = l.predict(X_train)\n",
    "print(\"Training Score\\n\")\n",
    "print('R^2:',metrics.r2_score(y_train, y_pred))\n",
    "print('Adjusted R^2:',1 - (1-metrics.r2_score(y_train, y_pred))*(len(y_train)-1)/(len(y_train)-X_train.shape[1]-1))\n",
    "print('MAE:',metrics.mean_absolute_error(y_train, y_pred))\n",
    "print('MSE:',metrics.mean_squared_error(y_train, y_pred))\n",
    "print('RMSE:',np.sqrt(metrics.mean_squared_error(y_train, y_pred)))\n",
    "\n",
    "print(\"\\n\\nTest Score\\n\")\n",
    "y_test_pred = lm.predict(X_test)\n",
    "acc_linreg = metrics.r2_score(y_test, y_test_pred)\n",
    "print('R^2:', acc_linreg)\n",
    "print('Adjusted R^2:',1 - (1-metrics.r2_score(y_test, y_test_pred))*(len(y_test)-1)/(len(y_test)-X_test.shape[1]-1))\n",
    "print('MAE:',metrics.mean_absolute_error(y_test, y_test_pred))\n",
    "print('MSE:',metrics.mean_squared_error(y_test, y_test_pred))\n",
    "print('RMSE:',np.sqrt(metrics.mean_squared_error(y_test, y_test_pred)))"
   ]
  },
  {
   "cell_type": "code",
   "execution_count": null,
   "id": "7eea5cc8",
   "metadata": {},
   "outputs": [],
   "source": []
  }
 ],
 "metadata": {
  "kernelspec": {
   "display_name": "Python 3 (ipykernel)",
   "language": "python",
   "name": "python3"
  },
  "language_info": {
   "codemirror_mode": {
    "name": "ipython",
    "version": 3
   },
   "file_extension": ".py",
   "mimetype": "text/x-python",
   "name": "python",
   "nbconvert_exporter": "python",
   "pygments_lexer": "ipython3",
   "version": "3.10.9"
  }
 },
 "nbformat": 4,
 "nbformat_minor": 5
}
